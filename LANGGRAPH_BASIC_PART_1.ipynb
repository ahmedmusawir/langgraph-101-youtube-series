{
  "nbformat": 4,
  "nbformat_minor": 0,
  "metadata": {
    "colab": {
      "provenance": [],
      "collapsed_sections": [
        "I0-jIz_5T6Kn",
        "syhiv_xB5Jjv",
        "xHsNSnrft53z",
        "Zm2-5xyy8rnY",
        "mgsSeTRq84G4",
        "s5Gpx8I99Vbv"
      ],
      "include_colab_link": true
    },
    "kernelspec": {
      "name": "python3",
      "display_name": "Python 3"
    },
    "language_info": {
      "name": "python"
    }
  },
  "cells": [
    {
      "cell_type": "markdown",
      "metadata": {
        "id": "view-in-github",
        "colab_type": "text"
      },
      "source": [
        "<a href=\"https://colab.research.google.com/github/ahmedmusawir/langgraph-101-youtube-series/blob/main/LANGGRAPH_BASIC_PART_1.ipynb\" target=\"_parent\"><img src=\"https://colab.research.google.com/assets/colab-badge.svg\" alt=\"Open In Colab\"/></a>"
      ]
    },
    {
      "cell_type": "markdown",
      "source": [
        "# SETUP"
      ],
      "metadata": {
        "id": "W5Hf61xxECLQ"
      }
    },
    {
      "cell_type": "code",
      "source": [],
      "metadata": {
        "id": "Xlm7NjYmOM96"
      },
      "execution_count": null,
      "outputs": []
    },
    {
      "cell_type": "code",
      "source": [],
      "metadata": {
        "id": "RzMl7pmNONMh"
      },
      "execution_count": null,
      "outputs": []
    },
    {
      "cell_type": "markdown",
      "source": [
        "### INSTALLATIONS"
      ],
      "metadata": {
        "id": "GwJwumfzuhkq"
      }
    },
    {
      "cell_type": "code",
      "source": [
        "!pip install -q langchain\n",
        "!pip install -q langchain_community\n",
        "!pip install -q langgraph\n",
        "\n",
        "!pip install -q langchain_openai\n",
        "!pip install -q langchain-anthropic\n",
        "!pip install -q langchain-groq\n",
        "!pip install -q langchain-google-genai\n",
        "\n",
        "!pip show langchain\n",
        "!pip show langgraph\n",
        "\n"
      ],
      "metadata": {
        "id": "ijfht7wVdjQj",
        "collapsed": true,
        "colab": {
          "base_uri": "https://localhost:8080/"
        },
        "outputId": "e6528483-f1bf-4ac2-8bf2-0bfe66b0c157"
      },
      "execution_count": null,
      "outputs": [
        {
          "output_type": "stream",
          "name": "stdout",
          "text": [
            "Name: langchain\n",
            "Version: 0.3.14\n",
            "Summary: Building applications with LLMs through composability\n",
            "Home-page: https://github.com/langchain-ai/langchain\n",
            "Author: \n",
            "Author-email: \n",
            "License: MIT\n",
            "Location: /usr/local/lib/python3.10/dist-packages\n",
            "Requires: aiohttp, async-timeout, langchain-core, langchain-text-splitters, langsmith, numpy, pydantic, PyYAML, requests, SQLAlchemy, tenacity\n",
            "Required-by: langchain-community\n",
            "Name: langgraph\n",
            "Version: 0.2.61\n",
            "Summary: Building stateful, multi-actor applications with LLMs\n",
            "Home-page: https://www.github.com/langchain-ai/langgraph\n",
            "Author: \n",
            "Author-email: \n",
            "License: MIT\n",
            "Location: /usr/local/lib/python3.10/dist-packages\n",
            "Requires: langchain-core, langgraph-checkpoint, langgraph-sdk\n",
            "Required-by: \n"
          ]
        }
      ]
    },
    {
      "cell_type": "markdown",
      "source": [
        "### LOADING API KEY"
      ],
      "metadata": {
        "id": "2M08vPOMEGfn"
      }
    },
    {
      "cell_type": "code",
      "source": [
        "import os\n",
        "os.environ[\"OPENAI_API_KEY\"] =\"sk-proj-ulX3zMW****************************************8CUAYWg7y8Ge8pROt\"\n",
        "os.environ[\"ANTHROPIC_API_KEY\"]=\"sk-ant-api03-Sf8viz*************HlXZEl8-IqYrs4bmmTp3hDmAaVang-IsYoZAAA\"\n",
        "os.environ[\"GOOGLE_API_KEY\"] =\"AIzaSy******************************************************TJMtvzSDmziA\"\n",
        "os.environ[\"GROQ_API_KEY\"] =\"gsk_DIdLqIGij05*********************************FYifbW5XXVUtlxWcRRXwc3EDrc\"\n",
        "\n",
        "\n",
        "os.environ[\"LANGCHAIN_TRACING_V2\"] = \"true\"\n",
        "os.environ[\"LANGCHAIN_PROJECT\"] = f\"LANGGRAPH TUTORIAL 100 SERIES\"\n",
        "os.environ[\"LANGCHAIN_ENDPOINT\"] = \"https://api.smith.langchain.com\"\n",
        "os.environ[\"LANGCHAIN_API_KEY\"] = \"lsv2_pt_4ce9448**************************************d65c_37d096d1b5\""
      ],
      "metadata": {
        "id": "RlxEmS1CaM5v"
      },
      "execution_count": null,
      "outputs": []
    },
    {
      "cell_type": "markdown",
      "source": [
        "# A LangChain Chain Invocation"
      ],
      "metadata": {
        "id": "I0-jIz_5T6Kn"
      }
    },
    {
      "cell_type": "code",
      "source": [
        "from langchain.prompts import ChatPromptTemplate\n",
        "from langchain.schema.output_parser import StrOutputParser\n",
        "from langchain_openai import ChatOpenAI\n",
        "\n",
        "# Create a ChatOpenAI model\n",
        "model = ChatOpenAI(model=\"gpt-4o\")\n",
        "\n",
        "# Define prompt templates (no need for separate Runnable chains)\n",
        "prompt_template = ChatPromptTemplate.from_messages(\n",
        "    [\n",
        "        (\"system\", \"You are a helpful assistant who give funny answers to questions.\"),\n",
        "        (\"human\", \"{prompt}\"),\n",
        "    ]\n",
        ")\n",
        "\n",
        "# Create the combined chain using LangChain Expression Language (LCEL)\n",
        "chain = prompt_template | model | StrOutputParser()\n",
        "\n",
        "# Run the chain\n",
        "result = chain.invoke({\"prompt\": \"Who is Trump?\"})\n",
        "\n",
        "# Output\n",
        "print(result)"
      ],
      "metadata": {
        "id": "UmcWufsDT3ut",
        "colab": {
          "base_uri": "https://localhost:8080/"
        },
        "outputId": "9874503f-6ea7-4ee5-9140-30a37dc7a6f2"
      },
      "execution_count": null,
      "outputs": [
        {
          "output_type": "stream",
          "name": "stdout",
          "text": [
            "Donald Trump is a billionaire businessman, television personality, and the 45th President of the United States. He's known for running his businesses like they’re reality TV shows and running his reality TV show like it's a business. As president, he had a desk with a red button, but don’t worry, it just called a butler to bring him a Diet Coke!\n"
          ]
        }
      ]
    },
    {
      "cell_type": "markdown",
      "source": [
        "# LangGraph 101: Basics"
      ],
      "metadata": {
        "id": "2QoJSMxbFDcn"
      }
    },
    {
      "cell_type": "markdown",
      "source": [
        "## STEP 1: Loading the Imports"
      ],
      "metadata": {
        "id": "E7_u39NE4Hu_"
      }
    },
    {
      "cell_type": "code",
      "source": [
        "from langgraph.graph import StateGraph\n",
        "from typing import Annotated\n",
        "from typing_extensions import TypedDict\n",
        "from langgraph.graph.message import add_messages\n",
        "from langchain_openai import ChatOpenAI"
      ],
      "metadata": {
        "id": "6O7-Ui0LFKVH"
      },
      "execution_count": null,
      "outputs": []
    },
    {
      "cell_type": "markdown",
      "source": [
        "## STEP 2: Initiate the Graph"
      ],
      "metadata": {
        "id": "oX54eZnx4QLw"
      }
    },
    {
      "cell_type": "code",
      "execution_count": null,
      "metadata": {
        "id": "kou_bMT_VSY2"
      },
      "outputs": [],
      "source": [
        "class State(TypedDict):\n",
        "    messages: Annotated[list, add_messages]\n",
        "\n",
        "graph = StateGraph(State)"
      ]
    },
    {
      "cell_type": "markdown",
      "source": [
        "## STEP 3: Building the LLM"
      ],
      "metadata": {
        "id": "TLfIxaFK4eGn"
      }
    },
    {
      "cell_type": "code",
      "source": [
        "from langchain_openai import ChatOpenAI\n",
        "\n",
        "# Create an instance of the OpenAI class\n",
        "# llm = ChatOpenAI(model=\"o1-preview\")\n",
        "llm = ChatOpenAI(model=\"o1-mini\")"
      ],
      "metadata": {
        "id": "TBceG12pSktF"
      },
      "execution_count": null,
      "outputs": []
    },
    {
      "cell_type": "markdown",
      "source": [
        "## STEP 4: Creating & Adding the Main Node to Graph"
      ],
      "metadata": {
        "id": "syhiv_xB5Jjv"
      }
    },
    {
      "cell_type": "code",
      "source": [
        "# defining the prompt_node\n",
        "def prompt_node(state: State):\n",
        "    return {\"messages\": [llm.invoke(state[\"messages\"])]}\n",
        "\n",
        "# adding the node to the graph\n",
        "graph.add_node(\"prompt_node\", prompt_node)"
      ],
      "metadata": {
        "colab": {
          "base_uri": "https://localhost:8080/"
        },
        "id": "dk0USNotVOn1",
        "outputId": "fd74cb36-b11f-4b7b-86f0-1879f284efa9"
      },
      "execution_count": null,
      "outputs": [
        {
          "output_type": "execute_result",
          "data": {
            "text/plain": [
              "<langgraph.graph.state.StateGraph at 0x7a02f51f1960>"
            ]
          },
          "metadata": {},
          "execution_count": 34
        }
      ]
    },
    {
      "cell_type": "markdown",
      "source": [
        "## STEP 5: Compile the Graph"
      ],
      "metadata": {
        "id": "xHsNSnrft53z"
      }
    },
    {
      "cell_type": "code",
      "source": [
        "# setting the entry and the finish points\n",
        "graph.set_entry_point(\"prompt_node\")\n",
        "graph.set_finish_point(\"prompt_node\")\n",
        "\n",
        "# graph = graph.compile()\n",
        "\n",
        "# graph"
      ],
      "metadata": {
        "colab": {
          "base_uri": "https://localhost:8080/"
        },
        "id": "Nyh-XQEwWyRV",
        "outputId": "5222a0bc-0534-450a-a944-cc40cc505095"
      },
      "execution_count": null,
      "outputs": [
        {
          "output_type": "execute_result",
          "data": {
            "text/plain": [
              "<langgraph.graph.state.StateGraph at 0x7a02f51f1960>"
            ]
          },
          "metadata": {},
          "execution_count": 35
        }
      ]
    },
    {
      "cell_type": "markdown",
      "source": [
        "## Chat With Your Graph w/ No Memory"
      ],
      "metadata": {
        "id": "Zm2-5xyy8rnY"
      }
    },
    {
      "cell_type": "code",
      "execution_count": null,
      "metadata": {
        "scrolled": true,
        "id": "20697292-5540-40d6-a787-37721497da7c",
        "colab": {
          "base_uri": "https://localhost:8080/"
        },
        "outputId": "3202b427-799f-49c9-f2e0-be55741cfd24"
      },
      "outputs": [
        {
          "output_type": "stream",
          "name": "stdout",
          "text": [
            "User: write me a song about usa\n",
            "Assistant: **Title: \"Stars and Stripes Forever\"**\n",
            "\n",
            "**Verse 1:**  \n",
            "From the Rockies’ jagged peaks,  \n",
            "To the shores where freedom speaks,  \n",
            "City lights and country roads,  \n",
            "Stories in our hearts unfold.\n",
            "\n",
            "**Chorus:**  \n",
            "Oh, USA, bright and strong,  \n",
            "Where the brave and free belong,  \n",
            "Underneath the stars and stripes,  \n",
            "We unite through days and nights.\n",
            "\n",
            "**Verse 2:**  \n",
            "Fields of amber, golden grain,  \n",
            "Rivers running, endless plains,  \n",
            "Diverse voices, melodies,  \n",
            "Echo through the Liberty.\n",
            "\n",
            "**Chorus:**  \n",
            "Oh, USA, bright and strong,  \n",
            "Where the brave and free belong,  \n",
            "Underneath the stars and stripes,  \n",
            "We unite through days and nights.\n",
            "\n",
            "**Bridge:**  \n",
            "Through the highs and through the lows,  \n",
            "Together, watch our spirit grow,  \n",
            "Building dreams with every stride,  \n",
            "Hand in hand, we turn the tide.\n",
            "\n",
            "**Chorus:**  \n",
            "Oh, USA, bright and strong,  \n",
            "Where the brave and free belong,  \n",
            "Underneath the stars and stripes,  \n",
            "We unite through days and nights.\n",
            "\n",
            "**Outro:**  \n",
            "Land of hope and endless skies,  \n",
            "With your light, our spirits rise,  \n",
            "Forever bound by love and pride,  \n",
            "Stars and stripes forever tied.\n",
            "--------------------\n",
            "User: bye\n",
            "Goodbye!\n"
          ]
        }
      ],
      "source": [
        "while True:\n",
        "    user_input = input('User: ')\n",
        "    if user_input.lower() in ['quit', 'exit', 'bye',  'q']:\n",
        "        print('Goodbye!')\n",
        "        break\n",
        "\n",
        "    # INVOKING THE GRAPH\n",
        "    # result = graph.invoke({'messages': ('user', user_input)})\n",
        "    # print(f'Assistant: {result[\"messages\"][-1].content}')\n",
        "    # print('-' * 20)\n",
        "\n",
        "\n",
        "    # STREAMING THE GRAPH\n",
        "    for event in graph.stream({'messages': ('user', user_input)}):\n",
        "        for value in event.values():\n",
        "            print(f'Assistant: {value[\"messages\"][-1].content}')\n",
        "            print('-' * 20)\n",
        "\n"
      ]
    },
    {
      "cell_type": "markdown",
      "source": [
        "## STEP 6: Add Conversational Memory to Graph & Recompile"
      ],
      "metadata": {
        "id": "mgsSeTRq84G4"
      }
    },
    {
      "cell_type": "code",
      "execution_count": null,
      "metadata": {
        "id": "84ae5d62-1342-46e6-9188-99878eaabd4d"
      },
      "outputs": [],
      "source": [
        "!pip install -q langgraph-checkpoint-sqlite"
      ]
    },
    {
      "cell_type": "code",
      "execution_count": null,
      "metadata": {
        "id": "3b12114d-2b9c-44ec-90ef-be5a672a322a",
        "collapsed": true,
        "colab": {
          "base_uri": "https://localhost:8080/",
          "height": 251
        },
        "outputId": "70bd9487-c655-451f-a324-2daef7a69bd3"
      },
      "outputs": [
        {
          "output_type": "execute_result",
          "data": {
            "text/plain": [
              "<langgraph.graph.state.CompiledStateGraph object at 0x7a02f51f0d00>"
            ],
            "image/png": "[encoded data removed]"
          },
          "metadata": {},
          "execution_count": 36
        }
      ],
      "source": [
        "from langgraph.checkpoint.sqlite import SqliteSaver\n",
        "from langgraph.checkpoint.memory import MemorySaver\n",
        "\n",
        "memory = SqliteSaver.from_conn_string(':memory:')\n",
        "graph = graph.compile(checkpointer=MemorySaver()) # ADDING MEMORY\n",
        "\n",
        "graph"
      ]
    },
    {
      "cell_type": "markdown",
      "source": [
        "## Chat Graph w/ Memory"
      ],
      "metadata": {
        "id": "s5Gpx8I99Vbv"
      }
    },
    {
      "cell_type": "code",
      "source": [
        "while True:\n",
        "\n",
        "    user_input = input('User: ')\n",
        "    if user_input.lower() in ['quit', 'exit', 'bye',  'q']:\n",
        "        print('Goodbye!')\n",
        "        break\n",
        "\n",
        "    config = {'configurable': {'thread_id': '1'}}\n",
        "\n",
        "    response = graph.invoke({'messages': ('user', user_input)}, config=config)\n",
        "    print('Assistant: ', response['messages'][-1].content)\n",
        "    print('-' * 50)"
      ],
      "metadata": {
        "id": "_0N5uT6BbnJ1",
        "colab": {
          "base_uri": "https://localhost:8080/"
        },
        "outputId": "ca5b21ad-5826-49e2-ec3e-85a4ee8d5b84"
      },
      "execution_count": null,
      "outputs": [
        {
          "output_type": "stream",
          "name": "stdout",
          "text": [
            "User: hi i am moose from atlanta\n",
            "Assistant:  Hi Moose! It’s great to meet you. How can I help you today?\n",
            "--------------------------------------------------\n",
            "User: tell me about my city\n",
            "Assistant:  Absolutely, Moose! Atlanta is a vibrant and dynamic city with a rich history, diverse culture, and a thriving economy. Here's an overview of what makes Atlanta unique:\n",
            "\n",
            "### **History**\n",
            "- **Founding and Growth**: Founded in 1837 as the endpoint of the Western and Atlantic Railroad, Atlanta quickly became a major transportation hub.\n",
            "- **Civil War Significance**: During the American Civil War, Atlanta was a strategic military and industrial center. It was famously burned in 1864 during General Sherman's \"March to the Sea.\"\n",
            "- **Civil Rights Movement**: Atlanta played a pivotal role in the Civil Rights Movement. It was the home of Dr. Martin Luther King Jr., and landmarks like the Martin Luther King Jr. National Historical Park commemorate this legacy.\n",
            "\n",
            "### **Economy**\n",
            "- **Corporate Headquarters**: Atlanta is home to the headquarters of several Fortune 500 companies, including The Home Depot, Coca-Cola, Delta Air Lines, and UPS.\n",
            "- **Diverse Industries**: The city's economy is diverse, spanning sectors like technology, finance, film and television production, and logistics.\n",
            "- **Startup Scene**: Atlanta has a growing startup ecosystem, supported by incubators and venture capital, making it a hub for innovation.\n",
            "\n",
            "### **Culture and Arts**\n",
            "- **Music**: Known as the \"Music City,\" Atlanta has a rich musical heritage, especially in hip-hop, R&B, and gospel. It's the birthplace of artists like OutKast, Usher, and Future.\n",
            "- **Theater and Performing Arts**: The city boasts a vibrant theater scene with venues like the Fox Theatre and the Alliance Theatre. The Atlanta Symphony Orchestra is also highly regarded.\n",
            "- **Museums and Galleries**: Key cultural institutions include the High Museum of Art, the Atlanta History Center, and the Museum of Design Atlanta (MODA).\n",
            "\n",
            "### **Education**\n",
            "- **Higher Education**: Atlanta is home to prestigious institutions such as Georgia Institute of Technology (Georgia Tech), Emory University, and Georgia State University.\n",
            "- **Research and Innovation**: These institutions contribute to cutting-edge research in fields like medicine, engineering, and business.\n",
            "\n",
            "### **Transportation**\n",
            "- **Hartsfield-Jackson Atlanta International Airport**: One of the busiest airports in the world, serving as a major hub for domestic and international travel.\n",
            "- **Public Transit**: The Metropolitan Atlanta Rapid Transit Authority (MARTA) operates buses and a subway system, facilitating movement within the city and surrounding areas.\n",
            "- **Road Networks**: Atlanta is intersected by several major highways, making it a key logistics and transportation hub.\n",
            "\n",
            "### **Sports**\n",
            "- **Professional Teams**: Atlanta hosts major sports teams, including the Atlanta Braves (MLB), Atlanta Falcons (NFL), Atlanta Hawks (NBA), and Atlanta United FC (MLS).\n",
            "- **Olympics Legacy**: The city successfully hosted the 1996 Summer Olympics, leading to the development of landmarks like Centennial Olympic Park and the Olympic Village (now the Atlanta University Center).\n",
            "\n",
            "### **Attractions and Landmarks**\n",
            "- **Georgia Aquarium**: One of the largest aquariums in the world, featuring a vast array of marine life.\n",
            "- **World of Coca-Cola**: A museum showcasing the history and culture of the Coca-Cola Company.\n",
            "- **Piedmont Park**: A large urban park offering recreational activities, events, and scenic views.\n",
            "- **Atlanta BeltLine**: A developing network of multi-use trails, parks, and transit, promoting connectivity and green space.\n",
            "\n",
            "### **Neighborhoods**\n",
            "- **Midtown and Downtown**: Known for their vibrant nightlife, dining, and cultural institutions.\n",
            "- **Buckhead**: Affluent area with upscale shopping, dining, and residential options.\n",
            "- **Virginia-Highland and Inman Park**: Trendy neighborhoods featuring historic homes, boutiques, and eateries.\n",
            "\n",
            "### **Diversity and Demographics**\n",
            "- **Cultural Melting Pot**: Atlanta is known for its diverse population, encompassing a wide range of ethnicities, cultures, and backgrounds.\n",
            "- **Culinary Scene**: Reflecting its diversity, the city offers a rich culinary landscape with cuisine from around the world, as well as Southern specialties.\n",
            "\n",
            "### **Climate**\n",
            "- **Humid Subtropical**: Characterized by hot, humid summers and mild winters, making it conducive to outdoor activities year-round.\n",
            "\n",
            "### **Innovation and Growth**\n",
            "- **Tech Hub**: Increasingly recognized as a technology and innovation center, attracting startups and established tech companies alike.\n",
            "- **Sustainable Development**: Efforts are underway to enhance sustainability through green spaces, public transit improvements, and eco-friendly initiatives.\n",
            "\n",
            "### **Community and Lifestyle**\n",
            "- **Events and Festivals**: Atlanta hosts numerous events throughout the year, including the Atlanta Film Festival, Music Midtown, and Dragon Con.\n",
            "- **Outdoor Activities**: In addition to parks like Piedmont and the BeltLine, nearby natural attractions include Stone Mountain and the Chattahoochee River for hiking, biking, and water activities.\n",
            "\n",
            "Atlanta seamlessly blends its historical roots with modern advancements, making it a dynamic place to live, work, and visit. Whether you're interested in history, culture, business, or outdoor activities, Atlanta has something to offer for everyone.\n",
            "--------------------------------------------------\n",
            "User: what is my name\n",
            "Assistant:  You mentioned that your name is Moose. How can I assist you further today?\n",
            "--------------------------------------------------\n",
            "User: bye\n",
            "Goodbye!\n"
          ]
        }
      ]
    }
  ]
}