{
  "nbformat": 4,
  "nbformat_minor": 0,
  "metadata": {
    "colab": {
      "provenance": [],
      "collapsed_sections": [
        "cVMQpP3ioaWF",
        "2RSvNmgPolvF",
        "WGXRc6ghqe6N",
        "X8p4fxwWq5Z1",
        "hTMvswSGrX6V",
        "qdEhZ3RHrm59",
        "2MS-yhZO2erI",
        "4SS7ZmCN2nxf"
      ],
      "include_colab_link": true
    },
    "kernelspec": {
      "name": "python3",
      "display_name": "Python 3"
    },
    "language_info": {
      "name": "python"
    }
  },
  "cells": [
    {
      "cell_type": "markdown",
      "metadata": {
        "id": "view-in-github",
        "colab_type": "text"
      },
      "source": [
        "<a href=\"https://colab.research.google.com/github/ahmedmusawir/langgraph-101-youtube-series/blob/main/LANGGRAPH_BASIC_PART_2.ipynb\" target=\"_parent\"><img src=\"https://colab.research.google.com/assets/colab-badge.svg\" alt=\"Open In Colab\"/></a>"
      ]
    },
    {
      "cell_type": "markdown",
      "source": [
        "# SETUP"
      ],
      "metadata": {
        "id": "W5Hf61xxECLQ"
      }
    },
    {
      "cell_type": "markdown",
      "source": [
        "### INSTALLATIONS"
      ],
      "metadata": {
        "id": "GwJwumfzuhkq"
      }
    },
    {
      "cell_type": "code",
      "source": [
        "!pip install -q langchain\n",
        "!pip install -q langchain_community\n",
        "!pip install -q langgraph\n",
        "\n",
        "!pip install -q langchain_openai\n",
        "!pip install -q langchain-anthropic\n",
        "!pip install -q langchain-groq\n",
        "!pip install -q langchain-google-genai\n",
        "\n",
        "!pip show langchain\n",
        "!pip show langgraph\n",
        "\n"
      ],
      "metadata": {
        "id": "ijfht7wVdjQj",
        "collapsed": true,
        "colab": {
          "base_uri": "https://localhost:8080/"
        },
        "outputId": "1388d471-6dcf-44b6-dbbe-888e6e79256b"
      },
      "execution_count": null,
      "outputs": [
        {
          "output_type": "stream",
          "name": "stdout",
          "text": [
            "Name: langchain\n",
            "Version: 0.3.14\n",
            "Summary: Building applications with LLMs through composability\n",
            "Home-page: https://github.com/langchain-ai/langchain\n",
            "Author: \n",
            "Author-email: \n",
            "License: MIT\n",
            "Location: /usr/local/lib/python3.10/dist-packages\n",
            "Requires: aiohttp, async-timeout, langchain-core, langchain-text-splitters, langsmith, numpy, pydantic, PyYAML, requests, SQLAlchemy, tenacity\n",
            "Required-by: langchain-community\n",
            "Name: langgraph\n",
            "Version: 0.2.62\n",
            "Summary: Building stateful, multi-actor applications with LLMs\n",
            "Home-page: https://www.github.com/langchain-ai/langgraph\n",
            "Author: \n",
            "Author-email: \n",
            "License: MIT\n",
            "Location: /usr/local/lib/python3.10/dist-packages\n",
            "Requires: langchain-core, langgraph-checkpoint, langgraph-sdk\n",
            "Required-by: \n"
          ]
        }
      ]
    },
    {
      "cell_type": "markdown",
      "source": [
        "### LOADING API KEY"
      ],
      "metadata": {
        "id": "2M08vPOMEGfn"
      }
    },
    {
      "cell_type": "code",
      "source": [
        "import os\n",
        "os.environ[\"OPENAI_API_KEY\"] =\"sk-proj-ulX3zMWA*************KFU8CUAYWg7y8Ge8pROt\"\n",
        "os.environ[\"ANTHROPIC_API_KEY\"]=\"sk-ant-api03-S*******s4bmmTp3hDmAaVang-IsYoZAAA\"\n",
        "os.environ[\"GOOGLE_API_KEY\"] =\"AIzaSyCKnwHrSc*******************cuoMTJMtvzSDmziA\"\n",
        "os.environ[\"GROQ_API_KEY\"] =\"gsk_DIdLqIGij05lGx2b7sqj******W5XXVUtlxWcRRXwc3EDrc\"\n",
        "\n",
        "\n",
        "os.environ[\"LANGCHAIN_TRACING_V2\"] = \"true\"\n",
        "os.environ[\"LANGCHAIN_PROJECT\"] = f\"LANGGRAPH TUTORIAL 100 SERIES\"\n",
        "os.environ[\"LANGCHAIN_ENDPOINT\"] = \"https://api.smith.langchain.com\"\n",
        "os.environ[\"LANGCHAIN_API_KEY\"] = \"lsv2_pt_4ce94482082c445888722****c_37d096d1b5\""
      ],
      "metadata": {
        "id": "RlxEmS1CaM5v"
      },
      "execution_count": null,
      "outputs": []
    },
    {
      "cell_type": "markdown",
      "source": [
        "# LangGraph 102 - Adding Tool Node and Conditional Edge"
      ],
      "metadata": {
        "id": "2QoJSMxbFDcn"
      }
    },
    {
      "cell_type": "markdown",
      "source": [
        "## STEP 1: Loading the Imports"
      ],
      "metadata": {
        "id": "cVMQpP3ioaWF"
      }
    },
    {
      "cell_type": "code",
      "execution_count": null,
      "metadata": {
        "id": "nT_QvAqEVSY0"
      },
      "outputs": [],
      "source": [
        "from typing import Annotated, Literal\n",
        "from typing_extensions import TypedDict\n",
        "from langgraph.graph import StateGraph\n",
        "from langgraph.graph.message import add_messages\n",
        "from langgraph.prebuilt import ToolNode\n",
        "from langchain_core.tools import tool\n",
        "from langchain_openai import ChatOpenAI\n"
      ]
    },
    {
      "cell_type": "markdown",
      "source": [
        "## STEP 2: Initiatiate the Graph"
      ],
      "metadata": {
        "id": "2RSvNmgPolvF"
      }
    },
    {
      "cell_type": "code",
      "execution_count": null,
      "metadata": {
        "id": "kou_bMT_VSY2"
      },
      "outputs": [],
      "source": [
        "class State(TypedDict):\n",
        "    messages: Annotated[list, add_messages]\n",
        "\n",
        "graph = StateGraph(State)"
      ]
    },
    {
      "cell_type": "markdown",
      "source": [
        "## STEP 3: Creating the Tools"
      ],
      "metadata": {
        "id": "WGXRc6ghqe6N"
      }
    },
    {
      "cell_type": "code",
      "execution_count": null,
      "metadata": {
        "id": "IyIl_YXRVSY3"
      },
      "outputs": [],
      "source": [
        "@tool\n",
        "def get_weather(location: str):\n",
        "    \"\"\"Call to get the current weather. Use the response of this tool verbatim.\n",
        "    Use this anytime asked about the current weather\"\"\"\n",
        "\n",
        "    if location.lower() in [\"new york\"]:\n",
        "        return \"It's cold and wet.\"\n",
        "    else:\n",
        "        return \"It's warm and sunny.\"\n",
        "\n",
        "@tool\n",
        "def get_ai_status(company: str):\n",
        "    \"\"\"Call to get the current AI status. Use the response of this tool verbatim.\n",
        "    Use this anytime asked about the current status of AI of a company.\"\"\"\n",
        "\n",
        "    if company.lower() == \"google\":\n",
        "        return \"Gemini is pretty awful.\"\n",
        "    else:\n",
        "        return \"Overall AI status is good!\"\n",
        "\n",
        "tools = [get_weather, get_ai_status]\n",
        "\n",
        "# result = get_ai_status(\"google\")\n",
        "# result"
      ]
    },
    {
      "cell_type": "markdown",
      "source": [
        "## STEP 4: Building the LLM w/ Tools & Adding the Tools Node to Graph"
      ],
      "metadata": {
        "id": "X8p4fxwWq5Z1"
      }
    },
    {
      "cell_type": "code",
      "source": [
        "# Creating the LLM with an Openai Model\n",
        "llm = ChatOpenAI(model=\"gpt-4o\")\n",
        "\n",
        "# Binding the LLM with Tools\n",
        "llm_with_tools = llm.bind_tools(tools)\n",
        "\n",
        "# Createing the Tool Node\n",
        "tool_node = ToolNode(tools)\n",
        "\n",
        "# Adding the Tool Node to Our Graph\n",
        "graph.add_node(\"tool_node\", tool_node)"
      ],
      "metadata": {
        "id": "TBceG12pSktF",
        "colab": {
          "base_uri": "https://localhost:8080/"
        },
        "outputId": "23316630-580d-486b-d39c-9ab6b6fa8e1c"
      },
      "execution_count": null,
      "outputs": [
        {
          "output_type": "execute_result",
          "data": {
            "text/plain": [
              "<langgraph.graph.state.StateGraph at 0x7baf494f3bb0>"
            ]
          },
          "metadata": {},
          "execution_count": 34
        }
      ]
    },
    {
      "cell_type": "markdown",
      "source": [
        "## STEP 5: Creating & Adding the Main Node to Graph"
      ],
      "metadata": {
        "id": "hTMvswSGrX6V"
      }
    },
    {
      "cell_type": "code",
      "source": [
        "# defining the prompt_node\n",
        "def prompt_node(state: State):\n",
        "    return {\"messages\": [llm_with_tools.invoke(state[\"messages\"])]}\n",
        "\n",
        "# adding the node to the graph\n",
        "graph.add_node(\"prompt_node\", prompt_node)"
      ],
      "metadata": {
        "colab": {
          "base_uri": "https://localhost:8080/"
        },
        "id": "dk0USNotVOn1",
        "outputId": "32971a3b-c1f4-4d43-dcf6-5f60f1972695"
      },
      "execution_count": null,
      "outputs": [
        {
          "output_type": "execute_result",
          "data": {
            "text/plain": [
              "<langgraph.graph.state.StateGraph at 0x7baf494f3bb0>"
            ]
          },
          "metadata": {},
          "execution_count": 35
        }
      ]
    },
    {
      "cell_type": "markdown",
      "source": [
        "## STEP 6: Creating the Conditional Edge & Adding the Edges to Graph"
      ],
      "metadata": {
        "id": "qdEhZ3RHrm59"
      }
    },
    {
      "cell_type": "code",
      "execution_count": null,
      "metadata": {
        "id": "9OYnQCALVSY4",
        "colab": {
          "base_uri": "https://localhost:8080/"
        },
        "outputId": "e3bfd7ec-8e38-4f58-ed26-b03f32a89080"
      },
      "outputs": [
        {
          "output_type": "execute_result",
          "data": {
            "text/plain": [
              "<langgraph.graph.state.StateGraph at 0x7baf494f3bb0>"
            ]
          },
          "metadata": {},
          "execution_count": 36
        }
      ],
      "source": [
        "# Defining the Conditional Edge\n",
        "def conditional_edge(state: State) -> Literal['tool_node', '__end__']:\n",
        "    last_message = state[\"messages\"][-1]\n",
        "    if last_message.tool_calls:\n",
        "        return \"tool_node\"\n",
        "    else:\n",
        "        return \"__end__\"\n",
        "\n",
        "# Adding the Conditional Edge to Our Graph\n",
        "graph.add_conditional_edges(\n",
        "    'prompt_node',\n",
        "    conditional_edge\n",
        ")\n",
        "\n",
        "# Adding the Normal Edge\n",
        "graph.add_edge(\"tool_node\", \"prompt_node\")\n",
        "\n",
        "# Setting the Starting Point of Our Graph\n",
        "graph.set_entry_point(\"prompt_node\")\n",
        "\n",
        "# graph = graph.compile()\n",
        "# graph"
      ]
    },
    {
      "cell_type": "markdown",
      "source": [
        "## STEP 7: Add Conversional Memory & Compile Graph"
      ],
      "metadata": {
        "id": "2MS-yhZO2erI"
      }
    },
    {
      "cell_type": "code",
      "execution_count": null,
      "metadata": {
        "id": "84ae5d62-1342-46e6-9188-99878eaabd4d"
      },
      "outputs": [],
      "source": [
        "!pip install -q langgraph-checkpoint-sqlite"
      ]
    },
    {
      "cell_type": "code",
      "execution_count": null,
      "metadata": {
        "id": "3b12114d-2b9c-44ec-90ef-be5a672a322a",
        "collapsed": true,
        "colab": {
          "base_uri": "https://localhost:8080/",
          "height": 266
        },
        "outputId": "55acd719-f0cb-4768-a410-49ee2ac5bf54"
      },
      "outputs": [
        {
          "output_type": "execute_result",
          "data": {
            "text/plain": [
              "<langgraph.graph.state.CompiledStateGraph object at 0x7baf4913aa70>"
            ],
            "image/png": "[encoded data removed]"
          },
          "metadata": {},
          "execution_count": 37
        }
      ],
      "source": [
        "from langgraph.checkpoint.sqlite import SqliteSaver\n",
        "from langgraph.checkpoint.memory import MemorySaver\n",
        "\n",
        "memory = SqliteSaver.from_conn_string(':memory:')\n",
        "graph = graph.compile(checkpointer=MemorySaver()) # ADDING MEMORY\n",
        "\n",
        "graph"
      ]
    },
    {
      "cell_type": "markdown",
      "source": [
        "## STEP 8: Chat With Your Graph"
      ],
      "metadata": {
        "id": "4SS7ZmCN2nxf"
      }
    },
    {
      "cell_type": "code",
      "source": [
        "while True:\n",
        "\n",
        "    user_input = input('User: ')\n",
        "    if user_input.lower() in ['quit', 'exit', 'bye',  'q']:\n",
        "        print('Goodbye!')\n",
        "        break\n",
        "\n",
        "    config = {'configurable': {'thread_id': '1'}}\n",
        "\n",
        "    response = graph.invoke({'messages': ('user', user_input)}, config=config)\n",
        "    print('Assistant: ', response['messages'][-1].content)\n",
        "    print('-' * 50)"
      ],
      "metadata": {
        "id": "_0N5uT6BbnJ1",
        "colab": {
          "base_uri": "https://localhost:8080/"
        },
        "outputId": "69162f54-e00a-44d2-9732-0a1daf4bc365"
      },
      "execution_count": null,
      "outputs": [
        {
          "output_type": "stream",
          "name": "stdout",
          "text": [
            "User: Hi I am moose from atlanta\n",
            "Assistant:  Hello Moose from Atlanta! How can I assist you today?\n",
            "--------------------------------------------------\n",
            "User: what is the ai status of google\n",
            "Assistant:  The AI status of Google is: \"Gemini is pretty awful.\" If you have any other questions or need more information, feel free to ask!\n",
            "--------------------------------------------------\n",
            "User: ai status of openai?\n",
            "Assistant:  The AI status of OpenAI is: \"Overall AI status is good!\" If you have more inquiries or need further details, just let me know!\n",
            "--------------------------------------------------\n",
            "User: current weather of new york?\n",
            "Assistant:  The current weather in New York is cold and wet. If there's anything else you need, feel free to ask!\n",
            "--------------------------------------------------\n",
            "User: current weather of paris?\n",
            "Assistant:  The current weather in Paris is warm and sunny. If you need more information, just let me know!\n",
            "--------------------------------------------------\n",
            "User: Tell me about my City?\n",
            "Assistant:  Atlanta, often referred to as the \"Capital of the South,\" is the capital city of Georgia and one of the most influential cultural, economic, and transportation hubs in the United States. Here are some key highlights about your city:\n",
            "\n",
            "1. **History**: Atlanta played a significant role during the Civil War and the Civil Rights Movement. It's home to prominent historical sites, including the Martin Luther King Jr. National Historic Site.\n",
            "\n",
            "2. **Economy**: Atlanta boasts a diverse economy with sectors such as aerospace, transportation, logistics, media operations, medical services, and information technology. It's also home to the headquarters of major corporations like Coca-Cola, Home Depot, and Delta Air Lines.\n",
            "\n",
            "3. **Culture**: The city has a vibrant arts scene, with numerous museums, theaters, and music venues. It's also known for its contributions to hip-hop music and culture.\n",
            "\n",
            "4. **Education**: Atlanta is home to several renowned educational institutions, including Georgia Tech, Emory University, and Morehouse College.\n",
            "\n",
            "5. **Tourism and Attractions**: Popular attractions include the Georgia Aquarium, Atlanta Botanical Garden, and the Atlanta History Center.\n",
            "\n",
            "6. **Cuisine**: The city's food scene is a mixture of Southern hospitality and modern culinary innovation. Classic Southern dishes as well as international cuisine can be found here.\n",
            "\n",
            "7. **Sports**: Atlanta has a strong sports culture, with professional teams like the Atlanta Braves (MLB), Atlanta Falcons (NFL), and Atlanta Hawks (NBA).\n",
            "\n",
            "8. **Green Spaces**: The city is noted for its greenery and parks, including Piedmont Park and the BeltLine, a multi-use trail converting abandoned rail corridors around the city.\n",
            "\n",
            "If you have specific questions about Atlanta or need more details on any aspect, feel free to ask!\n",
            "--------------------------------------------------\n",
            "User: bye\n",
            "Goodbye!\n"
          ]
        }
      ]
    }
  ]
}